{
 "cells": [
  {
   "cell_type": "markdown",
   "metadata": {},
   "source": [
    "## Counter"
   ]
  },
  {
   "cell_type": "code",
   "execution_count": 1,
   "metadata": {},
   "outputs": [],
   "source": [
    "meu_texto = \"Bem vindo meu nome é Guilherme eu gosto muito de nomes e tenho o meu cachorro e gosto muito de cachorro\"\n",
    "meu_texto = meu_texto.lower()\n",
    "\n",
    "aparicoes  = {}"
   ]
  },
  {
   "cell_type": "code",
   "execution_count": 3,
   "metadata": {},
   "outputs": [
    {
     "data": {
      "text/plain": [
       "defaultdict(int,\n",
       "            {'bem': 1,\n",
       "             'vindo': 1,\n",
       "             'meu': 2,\n",
       "             'nome': 1,\n",
       "             'é': 1,\n",
       "             'guilherme': 1,\n",
       "             'eu': 1,\n",
       "             'gosto': 2,\n",
       "             'muito': 2,\n",
       "             'de': 2,\n",
       "             'nomes': 1,\n",
       "             'e': 2,\n",
       "             'tenho': 1,\n",
       "             'o': 1,\n",
       "             'cachorro': 2})"
      ]
     },
     "execution_count": 3,
     "metadata": {},
     "output_type": "execute_result"
    }
   ],
   "source": [
    "from collections import defaultdict\n",
    "\n",
    "aparicoes = defaultdict(int)\n",
    "\n",
    "for palavra in meu_texto.split():\n",
    "    ate_agora = aparicoes[palavra]\n",
    "    aparicoes[palavra] += 1\n",
    "\n",
    "aparicoes"
   ]
  },
  {
   "cell_type": "code",
   "execution_count": 4,
   "metadata": {},
   "outputs": [],
   "source": [
    "class Conta:\n",
    "    def __init__(self) -> None:\n",
    "        print(\"Criando uma conta\")"
   ]
  },
  {
   "cell_type": "code",
   "execution_count": 5,
   "metadata": {},
   "outputs": [
    {
     "name": "stdout",
     "output_type": "stream",
     "text": [
      "Criando uma conta\n"
     ]
    },
    {
     "data": {
      "text/plain": [
       "<__main__.Conta at 0x7f227f347c10>"
      ]
     },
     "execution_count": 5,
     "metadata": {},
     "output_type": "execute_result"
    }
   ],
   "source": [
    "contas = defaultdict(Conta)\n",
    "contas[15]"
   ]
  },
  {
   "cell_type": "code",
   "execution_count": 6,
   "metadata": {},
   "outputs": [
    {
     "data": {
      "text/plain": [
       "Counter({'meu': 2,\n",
       "         'gosto': 2,\n",
       "         'muito': 2,\n",
       "         'de': 2,\n",
       "         'e': 2,\n",
       "         'cachorro': 2,\n",
       "         'bem': 1,\n",
       "         'vindo': 1,\n",
       "         'nome': 1,\n",
       "         'é': 1,\n",
       "         'guilherme': 1,\n",
       "         'eu': 1,\n",
       "         'nomes': 1,\n",
       "         'tenho': 1,\n",
       "         'o': 1})"
      ]
     },
     "execution_count": 6,
     "metadata": {},
     "output_type": "execute_result"
    }
   ],
   "source": [
    "from collections import Counter\n",
    "\n",
    "aparicoes = Counter()\n",
    "\n",
    "for palavra in meu_texto.split():\n",
    "    aparicoes[palavra] += 1\n",
    "\n",
    "aparicoes"
   ]
  },
  {
   "cell_type": "code",
   "execution_count": 7,
   "metadata": {},
   "outputs": [
    {
     "data": {
      "text/plain": [
       "Counter({'meu': 2,\n",
       "         'gosto': 2,\n",
       "         'muito': 2,\n",
       "         'de': 2,\n",
       "         'e': 2,\n",
       "         'cachorro': 2,\n",
       "         'bem': 1,\n",
       "         'vindo': 1,\n",
       "         'nome': 1,\n",
       "         'é': 1,\n",
       "         'guilherme': 1,\n",
       "         'eu': 1,\n",
       "         'nomes': 1,\n",
       "         'tenho': 1,\n",
       "         'o': 1})"
      ]
     },
     "execution_count": 7,
     "metadata": {},
     "output_type": "execute_result"
    }
   ],
   "source": [
    "aparicoes = Counter(meu_texto.split())\n",
    "\n",
    "aparicoes"
   ]
  },
  {
   "cell_type": "code",
   "execution_count": 8,
   "metadata": {},
   "outputs": [],
   "source": [
    "texto1 = \"\"\"\n",
    "    Então o que vamos fazer é o seguinte: vamos pegar dois textos, por exemplo eu posso entrar no blog da Alura e pegar textos do blog da Alura. Eu posso pegar um texto que está falando sobre expressões regulares e posso pegar um outro texto de outro assunto, só para não termos dois assuntos similares. Vou pegar um o outro assunto, temos um de programação e um aqui que é de negócios: B2C, B2B, coisas do gênero. Então dois assuntos distintos, um de programação e um não de programação.\n",
    "\"\"\""
   ]
  },
  {
   "cell_type": "code",
   "execution_count": 9,
   "metadata": {},
   "outputs": [
    {
     "name": "stdout",
     "output_type": "stream",
     "text": [
      "('\\n', 0.004081632653061225)\n",
      "(' ', 0.18775510204081633)\n",
      "('e', 0.08775510204081632)\n",
      "('n', 0.030612244897959183)\n",
      "('t', 0.04897959183673469)\n",
      "('ã', 0.014285714285714285)\n",
      "('o', 0.11020408163265306)\n",
      "('q', 0.00816326530612245)\n",
      "('u', 0.05102040816326531)\n",
      "('v', 0.006122448979591836)\n",
      "('a', 0.0673469387755102)\n",
      "('m', 0.0326530612244898)\n",
      "('s', 0.08163265306122448)\n",
      "('f', 0.004081632653061225)\n",
      "('z', 0.0020408163265306124)\n",
      "('r', 0.05714285714285714)\n",
      "('é', 0.004081632653061225)\n",
      "('g', 0.02857142857142857)\n",
      "('i', 0.022448979591836733)\n",
      "(':', 0.004081632653061225)\n",
      "('p', 0.030612244897959183)\n",
      "('d', 0.02857142857142857)\n",
      "('x', 0.012244897959183673)\n",
      "(',', 0.012244897959183673)\n",
      "('l', 0.0163265306122449)\n",
      "('b', 0.012244897959183673)\n",
      "('.', 0.00816326530612245)\n",
      "('á', 0.0020408163265306124)\n",
      "('õ', 0.0020408163265306124)\n",
      "('ó', 0.004081632653061225)\n",
      "('ç', 0.006122448979591836)\n",
      "('c', 0.006122448979591836)\n",
      "('2', 0.004081632653061225)\n",
      "('ê', 0.0020408163265306124)\n"
     ]
    }
   ],
   "source": [
    "aparicoes = Counter(texto1.lower())\n",
    "total_de_caracteres = sum(aparicoes.values())\n",
    "\n",
    "for letra, frequencia in aparicoes.items():\n",
    "    tupla=(letra, frequencia / total_de_caracteres)\n",
    "    print(tupla)"
   ]
  },
  {
   "cell_type": "code",
   "execution_count": 10,
   "metadata": {},
   "outputs": [
    {
     "data": {
      "text/plain": [
       "[('\\n', 0.004081632653061225),\n",
       " (' ', 0.18775510204081633),\n",
       " ('e', 0.08775510204081632),\n",
       " ('n', 0.030612244897959183),\n",
       " ('t', 0.04897959183673469),\n",
       " ('ã', 0.014285714285714285),\n",
       " ('o', 0.11020408163265306),\n",
       " ('q', 0.00816326530612245),\n",
       " ('u', 0.05102040816326531),\n",
       " ('v', 0.006122448979591836),\n",
       " ('a', 0.0673469387755102),\n",
       " ('m', 0.0326530612244898),\n",
       " ('s', 0.08163265306122448),\n",
       " ('f', 0.004081632653061225),\n",
       " ('z', 0.0020408163265306124),\n",
       " ('r', 0.05714285714285714),\n",
       " ('é', 0.004081632653061225),\n",
       " ('g', 0.02857142857142857),\n",
       " ('i', 0.022448979591836733),\n",
       " (':', 0.004081632653061225),\n",
       " ('p', 0.030612244897959183),\n",
       " ('d', 0.02857142857142857),\n",
       " ('x', 0.012244897959183673),\n",
       " (',', 0.012244897959183673),\n",
       " ('l', 0.0163265306122449),\n",
       " ('b', 0.012244897959183673),\n",
       " ('.', 0.00816326530612245),\n",
       " ('á', 0.0020408163265306124),\n",
       " ('õ', 0.0020408163265306124),\n",
       " ('ó', 0.004081632653061225),\n",
       " ('ç', 0.006122448979591836),\n",
       " ('c', 0.006122448979591836),\n",
       " ('2', 0.004081632653061225),\n",
       " ('ê', 0.0020408163265306124)]"
      ]
     },
     "execution_count": 10,
     "metadata": {},
     "output_type": "execute_result"
    }
   ],
   "source": [
    "aparicoes = Counter(texto1.lower())\n",
    "total_de_caracteres = sum(aparicoes.values())\n",
    "\n",
    "[(letra, frequencia / total_de_caracteres) for letra, frequencia in aparicoes.items()]"
   ]
  },
  {
   "cell_type": "code",
   "execution_count": 11,
   "metadata": {},
   "outputs": [],
   "source": [
    "def analisa_frequencia_de_letras(texto):\n",
    "  aparicoes = Counter(texto.lower())\n",
    "  total_de_caracteres = sum(aparicoes.values())\n",
    "\n",
    "  proporcoes = [(letra, frequencia / total_de_caracteres) for letra, frequencia in aparicoes.items()]\n",
    "  proporcoes = Counter(dict(proporcoes))\n",
    "  mais_comuns = proporcoes.most_common(10)\n",
    "\n",
    "  for caractere, proporcao in mais_comuns:\n",
    "    print((caractere, proporcao))"
   ]
  },
  {
   "cell_type": "code",
   "execution_count": 12,
   "metadata": {},
   "outputs": [
    {
     "name": "stdout",
     "output_type": "stream",
     "text": [
      "(' ', 0.18775510204081633)\n",
      "('o', 0.11020408163265306)\n",
      "('e', 0.08775510204081632)\n",
      "('s', 0.08163265306122448)\n",
      "('a', 0.0673469387755102)\n",
      "('r', 0.05714285714285714)\n",
      "('u', 0.05102040816326531)\n",
      "('t', 0.04897959183673469)\n",
      "('m', 0.0326530612244898)\n",
      "('n', 0.030612244897959183)\n"
     ]
    }
   ],
   "source": [
    "analisa_frequencia_de_letras(texto1)"
   ]
  },
  {
   "cell_type": "code",
   "execution_count": 13,
   "metadata": {},
   "outputs": [],
   "source": [
    "def analisa_frequencia_de_letras(texto):\n",
    "  aparicoes = Counter(texto.lower())\n",
    "  total_de_caracteres = sum(aparicoes.values())\n",
    "  proporcoes = [(letra, frequencia / total_de_caracteres) for letra, frequencia in aparicoes.items()]\n",
    "  proporcoes = Counter(dict(proporcoes))\n",
    "  mais_comuns = proporcoes.most_common(10)\n",
    "\n",
    "  for caractere, proporcao in mais_comuns:\n",
    "    print(\"{} => {:.2f}%\".format(caractere, proporcao * 100))\n"
   ]
  },
  {
   "cell_type": "code",
   "execution_count": 14,
   "metadata": {},
   "outputs": [
    {
     "name": "stdout",
     "output_type": "stream",
     "text": [
      "  => 18.78%\n",
      "o => 11.02%\n",
      "e => 8.78%\n",
      "s => 8.16%\n",
      "a => 6.73%\n",
      "r => 5.71%\n",
      "u => 5.10%\n",
      "t => 4.90%\n",
      "m => 3.27%\n",
      "n => 3.06%\n"
     ]
    }
   ],
   "source": [
    "analisa_frequencia_de_letras(texto1)"
   ]
  }
 ],
 "metadata": {
  "kernelspec": {
   "display_name": "Python 3",
   "language": "python",
   "name": "python3"
  },
  "language_info": {
   "codemirror_mode": {
    "name": "ipython",
    "version": 3
   },
   "file_extension": ".py",
   "mimetype": "text/x-python",
   "name": "python",
   "nbconvert_exporter": "python",
   "pygments_lexer": "ipython3",
   "version": "3.10.12"
  }
 },
 "nbformat": 4,
 "nbformat_minor": 2
}
